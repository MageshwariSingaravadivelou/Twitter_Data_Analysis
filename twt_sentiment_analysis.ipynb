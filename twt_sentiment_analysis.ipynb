{
 "cells": [
  {
   "cell_type": "code",
   "execution_count": 20,
   "metadata": {},
   "outputs": [
    {
     "name": "stdout",
     "output_type": "stream",
     "text": [
      "Collecting TextBlob\n",
      "  Downloading textblob-0.15.3-py2.py3-none-any.whl (636 kB)\n",
      "Requirement already satisfied: nltk>=3.1 in c:\\users\\mageshwari.singarava\\anaconda3\\lib\\site-packages (from TextBlob) (3.5)\n",
      "Requirement already satisfied: joblib in c:\\users\\mageshwari.singarava\\anaconda3\\lib\\site-packages (from nltk>=3.1->TextBlob) (0.16.0)\n",
      "Requirement already satisfied: regex in c:\\users\\mageshwari.singarava\\anaconda3\\lib\\site-packages (from nltk>=3.1->TextBlob) (2020.6.8)Note: you may need to restart the kernel to use updated packages.\n",
      "\n",
      "Requirement already satisfied: tqdm in c:\\users\\mageshwari.singarava\\anaconda3\\lib\\site-packages (from nltk>=3.1->TextBlob) (4.47.0)\n",
      "Requirement already satisfied: click in c:\\users\\mageshwari.singarava\\anaconda3\\lib\\site-packages (from nltk>=3.1->TextBlob) (7.1.2)\n",
      "Installing collected packages: TextBlob\n",
      "Successfully installed TextBlob-0.15.3\n"
     ]
    }
   ],
   "source": [
    "pip install TextBlob"
   ]
  },
  {
   "cell_type": "code",
   "execution_count": 21,
   "metadata": {},
   "outputs": [],
   "source": [
    "# get all the tweets based on the search query and analyse the sentiment of the tweets\n",
    "import tweepy\n",
    "import pandas as pd\n",
    "import re\n",
    "from textblob import TextBlob "
   ]
  },
  {
   "cell_type": "code",
   "execution_count": 22,
   "metadata": {},
   "outputs": [],
   "source": [
    "# keys and tokens from the Twitter Dev Console\n",
    "consumer_key = \"\" # TWITTER_API_KEY\n",
    "consumer_secret = \"\" # TWITTER_API_SECRET\n",
    "access_key = \"\" # ACCESS_TOKEN\n",
    "access_secret = \"\" # ACCESS_SECRET_TOKEN"
   ]
  },
  {
   "cell_type": "code",
   "execution_count": 41,
   "metadata": {},
   "outputs": [],
   "source": [
    "def TwitterClient():\n",
    "    # attempt authentication \n",
    "    try: \n",
    "        # create OAuthHandler object \n",
    "        auth = tweepy.OAuthHandler(consumer_key, consumer_secret) \n",
    "        # set access token and secret \n",
    "        auth.set_access_token(access_key, access_secret) \n",
    "        # create tweepy API object to fetch tweets \n",
    "        api = tweepy.API(auth, wait_on_rate_limit=True) \n",
    "\n",
    "    except: \n",
    "        print(\"Error: Authentication Failed\") "
   ]
  },
  {
   "cell_type": "code",
   "execution_count": 36,
   "metadata": {},
   "outputs": [],
   "source": [
    "def clean_tweet(tweet): \n",
    "        ''' \n",
    "        Utility function to clean tweet text by removing links, special characters \n",
    "        using simple regex statements. \n",
    "        '''\n",
    "        return ' '.join(re.sub('(@[A-Za-z0-9]+)|([^0-9A-Za-z \\t])|(\\w+:\\/\\/\\S+)', ' ', tweet).split()) "
   ]
  },
  {
   "cell_type": "code",
   "execution_count": 37,
   "metadata": {},
   "outputs": [],
   "source": [
    "def get_tweet_sentiment(tweet): \n",
    "        ''' \n",
    "        Utility function to classify sentiment of passed tweet \n",
    "        using textblob's sentiment method \n",
    "        '''\n",
    "        # create TextBlob object of passed tweet text \n",
    "        analysis = TextBlob(clean_tweet(tweet)) \n",
    "        # set sentiment \n",
    "        if analysis.sentiment.polarity > 0: \n",
    "            return 'positive'\n",
    "        elif analysis.sentiment.polarity == 0: \n",
    "            return 'neutral'\n",
    "        else: \n",
    "            return 'negative'"
   ]
  },
  {
   "cell_type": "code",
   "execution_count": 38,
   "metadata": {},
   "outputs": [],
   "source": [
    "def get_tweets(query, count = 10): \n",
    "        ''' \n",
    "        Main function to fetch tweets and parse them. \n",
    "        '''\n",
    "        # empty list to store parsed tweets \n",
    "        tweets = [] \n",
    "  \n",
    "        try: \n",
    "            # call twitter api to fetch tweets \n",
    "            fetched_tweets = api.search(q = query, count = count) \n",
    "  \n",
    "            # parsing tweets one by one \n",
    "            for tweet in fetched_tweets: \n",
    "                # empty dictionary to store required params of a tweet \n",
    "                parsed_tweet = {} \n",
    "  \n",
    "                # saving text of tweet \n",
    "                parsed_tweet['text'] = tweet.text \n",
    "                # saving sentiment of tweet \n",
    "                parsed_tweet['sentiment'] = get_tweet_sentiment(tweet.text) \n",
    "  \n",
    "                # appending parsed tweet to tweets list \n",
    "                if tweet.retweet_count > 0: \n",
    "                    # if tweet has retweets, ensure that it is appended only once \n",
    "                    if parsed_tweet not in tweets: \n",
    "                        tweets.append(parsed_tweet) \n",
    "                else: \n",
    "                    tweets.append(parsed_tweet) \n",
    "  \n",
    "            # return parsed tweets \n",
    "            return tweets \n",
    "  \n",
    "        except tweepy.TweepError as e: \n",
    "            # print error (if any) \n",
    "            print(\"Error : \" + str(e)) "
   ]
  },
  {
   "cell_type": "code",
   "execution_count": 51,
   "metadata": {},
   "outputs": [],
   "source": [
    "def main(search_query): \n",
    "    # creating object of TwitterClient Class \n",
    "    api = TwitterClient() \n",
    "    # calling function to get tweets \n",
    "    tweets = get_tweets(query = search_query, count = 200) \n",
    "  \n",
    "    # picking positive tweets from tweets \n",
    "    ptweets = [tweet for tweet in tweets if tweet['sentiment'] == 'positive'] \n",
    "    ptweets_count = 100*len(ptweets)/len(tweets)\n",
    "    # percentage of positive tweets \n",
    "    print(\"Positive tweets percentage: {} %\".format(ptweets_count)) \n",
    "    # picking negative tweets from tweets \n",
    "    ntweets = [tweet for tweet in tweets if tweet['sentiment'] == 'negative'] \n",
    "    ntweets_count = 100*len(ntweets)/len(tweets)\n",
    "    # percentage of negative tweets \n",
    "    print(\"Negative tweets percentage: {} %\".format(ntweets_count)) \n",
    "    # percentage of neutral tweets \n",
    "    neutral_count = 100*(len(tweets) -(len( ntweets )+len( ptweets)))/len(tweets)\n",
    "    print(\"Neutral tweets percentage: {} %\".format(neutral_count)) \n",
    "    \n",
    "    #plot the values in Pie Chart \n",
    "    \n",
    "    df = pd.DataFrame([ptweets_count, ntweets_count, neutral_count], index=['Positive Tweets', 'Negative Tweets', 'Neutral Tweets'], columns=['Sentiment'])\n",
    "    df.plot.pie(subplots=True)\n",
    "    \n",
    "    # Area Chart\n",
    "    df.plot.area()\n",
    "    \n",
    "    # printing first 5 positive tweets \n",
    "    print(\"\\n\\nPositive tweets:\") \n",
    "    for tweet in ptweets[:10]: \n",
    "        print(tweet['text']) \n",
    "  \n",
    "    # printing first 5 negative tweets \n",
    "    print(\"\\n\\nNegative tweets:\") \n",
    "    for tweet in ntweets[:10]: \n",
    "        print(tweet['text']) "
   ]
  },
  {
   "cell_type": "code",
   "execution_count": 52,
   "metadata": {},
   "outputs": [
    {
     "name": "stdout",
     "output_type": "stream",
     "text": [
      "Positive tweets percentage: 32.95454545454545 %\n",
      "Negative tweets percentage: 3.409090909090909 %\n",
      "Neutral tweets percentage: 63.63636363636363 %\n",
      "\n",
      "\n",
      "Positive tweets:\n",
      "@WP_Hans @MSEdgeDev Thanks @WP_Hans! Do you have any Galaxy devices in particular you'd like to test? We currently… https://t.co/KNoehifWVF\n",
      "@JenMsft @MicrosoftEdge @windowsinsider @Windows  When can we finally get the new Microsoft Edge (Chromium-based) i… https://t.co/0Mm6P4Rvjd\n",
      "People who say Google Chrome is better than Microsoft Edge Chromium, really don’t know what they are talking about.… https://t.co/EClx3hN3sw\n",
      "RT @EdgeDevTools: 🆕📕 New to docs: Snippets are a way to store, edit and run bits of JavaScript to execute in the context of the currently o…\n",
      "🆕📕 New to docs: Snippets are a way to store, edit and run bits of JavaScript to execute in the context of the curre… https://t.co/o46Z95TupN\n",
      "Após ganhar versão baseada em Chromium, o navegador do Windows está se tornando mais popular; saiba ... (https://t.co/XB5JPQk3Xa)\n",
      "@init616 @IonaItalia @Elle_vanderWest The new Microsoft Edge is built on Chromium. It's essentially the same thing.… https://t.co/nKrv1XqhVE\n",
      "RT @Tec_Mundo: Após ganhar versão baseada em Chromium, o navegador do Windows está se tornando mais popular; saiba mais! #tecmundo https://…\n",
      "Após ganhar versão baseada em Chromium, o navegador do Windows está se tornando mais popular; saiba mais! #tecmundo https://t.co/dSxCsYOqO5\n",
      "Gadis anime, hmmm siapa yang tidak suka. 😄\n",
      "\n",
      "berikut adalah tips mempercantik tampilan halaman new tab versi saya. \n",
      "\n",
      "https://t.co/3Z4DsEPgi6\n",
      "\n",
      "\n",
      "Negative tweets:\n",
      "@Jslectro @NeloDev @MicrosoftEdge @CodemoMadrid You mean grid tooling? That’s an experiment in Edge/Chrome Devtools… https://t.co/Tsgh3nGDty\n",
      "Microsoft Edge for Linux Compared with Other Chromium-Based Browsers https://t.co/624LUCZiAM https://t.co/rsho3KPcD1\n",
      "After using Microsoft Edge for so long, the default scroll mechanism of chromium just feels extremely sluggish.\n"
     ]
    },
    {
     "data": {
      "image/png": "[encoded data removed]",
      "text/plain": [
       "<Figure size 432x288 with 1 Axes>"
      ]
     },
     "metadata": {},
     "output_type": "display_data"
    },
    {
     "data": {
      "image/png": "[encoded data removed]",
      "text/plain": [
       "<Figure size 432x288 with 1 Axes>"
      ]
     },
     "metadata": {
      "needs_background": "light"
     },
     "output_type": "display_data"
    }
   ],
   "source": [
    "if __name__ == \"__main__\": \n",
    "    # calling main function \n",
    "    query = 'Microsoft Edge Chromium'\n",
    "    main(search_query = query) "
   ]
  },
  {
   "cell_type": "code",
   "execution_count": null,
   "metadata": {},
   "outputs": [],
   "source": []
  }
 ],
 "metadata": {
  "kernelspec": {
   "display_name": "Python 3",
   "language": "python",
   "name": "python3"
  },
  "language_info": {
   "codemirror_mode": {
    "name": "ipython",
    "version": 3
   },
   "file_extension": ".py",
   "mimetype": "text/x-python",
   "name": "python",
   "nbconvert_exporter": "python",
   "pygments_lexer": "ipython3",
   "version": "3.8.3"
  }
 },
 "nbformat": 4,
 "nbformat_minor": 4
}
